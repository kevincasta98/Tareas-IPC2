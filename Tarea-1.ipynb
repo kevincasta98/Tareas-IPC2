{
  "nbformat": 4,
  "nbformat_minor": 0,
  "metadata": {
    "colab": {
      "name": "1.Listas_enlazadas.ipynb",
      "provenance": [],
      "collapsed_sections": [],
      "include_colab_link": true
    },
    "kernelspec": {
      "name": "python3",
      "display_name": "Python 3"
    },
    "language_info": {
      "name": "python"
    }
  },
  "cells": [
    {
      "cell_type": "markdown",
      "metadata": {
        "id": "view-in-github",
        "colab_type": "text"
      },
      "source": [
        "<a href=\"https://colab.research.google.com/github/kevincasta98/Tareas-IPC2/blob/main/1_Listas_enlazadas.ipynb\" target=\"_parent\"><img src=\"https://colab.research.google.com/assets/colab-badge.svg\" alt=\"Open In Colab\"/></a>"
      ]
    },
    {
      "cell_type": "markdown",
      "metadata": {
        "id": "M_B3P0EPtd7W"
      },
      "source": [
        "##**Listas Enlazadas**\n",
        "**Definicion de la clase**\n"
      ]
    },
    {
      "cell_type": "code",
      "metadata": {
        "id": "_BRuqZ0It_UT"
      },
      "source": [
        "class estudiante:\n",
        "  def __init__(self, carnet, nombre, edad, direccion, email, carrera, puesto):\n",
        "    self.carnet = carnet\n",
        "    self.nombre = nombre\n",
        "    self.edad = edad\n",
        "    self.direccion = direccion\n",
        "    self.email = email\n",
        "    self.carrera = carrera\n",
        "    self.puesto = puesto"
      ],
      "execution_count": 87,
      "outputs": []
    },
    {
      "cell_type": "markdown",
      "metadata": {
        "id": "4Em6F3ySzUa0"
      },
      "source": [
        "**Definicion de la clase nodo**"
      ]
    },
    {
      "cell_type": "code",
      "metadata": {
        "id": "Ma3evLfgzYgz"
      },
      "source": [
        "class nodo:\n",
        "  def __init__(self, estudiante = None, siguiente = None):\n",
        "    self.estudiante = estudiante\n",
        "    self.siguiente = siguiente"
      ],
      "execution_count": 88,
      "outputs": []
    },
    {
      "cell_type": "markdown",
      "metadata": {
        "id": "Rtj_rEG5235P"
      },
      "source": [
        "**Definicion de la clase Lista Enlazada**\n",
        "Inicializacion de la lista nodo"
      ]
    },
    {
      "cell_type": "code",
      "metadata": {
        "id": "SJZ0su5g3E-3"
      },
      "source": [
        "class lista_enlazada:\n",
        "  def __init__(self):\n",
        "    self.primero = None#primer nodo\n",
        "\n",
        "  def insertar(self, est):\n",
        "    if self.primero is None:\n",
        "      self.primero = nodo(estudiante=est)#El siguiente es vacio, ya no hay necesidad de colocarla\n",
        "      return \n",
        "    actual = self.primero\n",
        "    while actual.siguiente:## siguiente esta vacia\n",
        "      actual = actual.siguiente\n",
        "    actual.siguiente = nodo(estudiante=est)\n",
        "\n",
        "\n",
        "  def recorrer(self):\n",
        "    actual = self.primero\n",
        "    while actual != None:\n",
        "      print('carné:',actual.estudiante.carnet, \"Nombre:\", actual.estudiante.nombre, \"Email\",actual.estudiante.email, \"-->\" )\n",
        "      actual = actual.siguiente\n",
        "\n",
        "  def eliminar(self, carnet):\n",
        "    actual = self.primero\n",
        "    anterior = None\n",
        "    parametro = carnet\n",
        "\n",
        "    while actual and actual.estudiante.carnet != parametro:#Actual tenga un elemento \"y\" carnet actual es diferente del parametro\n",
        "      anterior = actual\n",
        "      actual = actual.siguiente##le agregamos karen a actual\n",
        "    \n",
        "    if anterior is None:#Esto no esta en el diagrama, pero es para eliminar al primer objeto, osea que no tenga anterior\n",
        "      self.primero = actual.siguiente\n",
        "      actual.siguiente = None\n",
        "    elif actual:#Actual tiene un valor? //si tiene\n",
        "      anterior.siguiente = actual.siguiente #Estamos apuntando el anterior hacia el siguiente\n",
        "      actual.siguiente = None\n",
        "\n",
        "\n",
        "  def Buscar(self, carne):\n",
        "    actual = self.primero\n",
        "    anterior = None\n",
        "    parametro = carne\n",
        "\n",
        "    while actual and actual.estudiante.carnet != parametro:#Actual tenga un elemento \"y\" carnet actual es diferente del parametro\n",
        "      anterior = actual\n",
        "      actual = actual.siguiente##le agregamos karen a actual\n",
        "    \n",
        "    if actual.estudiante.carnet == parametro:\n",
        "     print('carné:',actual.estudiante.carnet, \"Nombre:\", actual.estudiante.nombre, \"Email\",actual.estudiante.email, \"-->\" )\n",
        "\n",
        "\n",
        "    "
      ],
      "execution_count": 89,
      "outputs": []
    },
    {
      "cell_type": "markdown",
      "metadata": {
        "id": "m08Ygjsxsgj-"
      },
      "source": [
        "**Creacion de estudiantes**"
      ]
    },
    {
      "cell_type": "markdown",
      "metadata": {
        "id": "LXy1m11L4bLB"
      },
      "source": [
        "Gerson > Karen > Luis"
      ]
    },
    {
      "cell_type": "code",
      "metadata": {
        "id": "oGSa37IvsnLM"
      },
      "source": [
        "e1 = estudiante(201901801,\"Kevin Castañeda\",23,\"Guatemala\",\"keevoocasta@gmail.com\",\"Sistemas\",\"Programador Jr\")\n",
        "e2 = estudiante(201801701,\"Javier Castañeda\",18,\"Guatemala\",\"javiercasta@gmail.com\",\"Arquitectura\",\"Programador Jr\")\n",
        "e3 = estudiante(200001801,\"Andreita Castañeda\",17,\"Guatemala\",\"keevoocasta@gmail.com\",\"Sistemas\",\"Programador Jr\")"
      ],
      "execution_count": 90,
      "outputs": []
    },
    {
      "cell_type": "markdown",
      "metadata": {
        "id": "x0b2i3YgtWll"
      },
      "source": [
        "**Insercion de objetos**"
      ]
    },
    {
      "cell_type": "code",
      "metadata": {
        "id": "aphtXuqCtdcN"
      },
      "source": [
        "lista_e = lista_enlazada()\n",
        "lista_e.insertar(e1)\n",
        "lista_e.insertar(e2)\n",
        "lista_e.insertar(e3)"
      ],
      "execution_count": 91,
      "outputs": []
    },
    {
      "cell_type": "markdown",
      "metadata": {
        "id": "r1q08_0vt8Rs"
      },
      "source": [
        "**Recorrer lista**"
      ]
    },
    {
      "cell_type": "code",
      "metadata": {
        "colab": {
          "base_uri": "https://localhost:8080/"
        },
        "id": "qr7unWrXt7O0",
        "outputId": "98bea70a-3905-4f1b-9f10-d126a4c7dfc5"
      },
      "source": [
        "lista_e.recorrer()"
      ],
      "execution_count": 92,
      "outputs": [
        {
          "output_type": "stream",
          "text": [
            "carné: 201901801 Nombre: Kevin Castañeda Email keevoocasta@gmail.com -->\n",
            "carné: 201801701 Nombre: Javier Castañeda Email javiercasta@gmail.com -->\n",
            "carné: 200001801 Nombre: Andreita Castañeda Email keevoocasta@gmail.com -->\n"
          ],
          "name": "stdout"
        }
      ]
    },
    {
      "cell_type": "markdown",
      "metadata": {
        "id": "nC2oSratwdec"
      },
      "source": [
        "**Eliminar un nodo de la lista**"
      ]
    },
    {
      "cell_type": "code",
      "metadata": {
        "colab": {
          "base_uri": "https://localhost:8080/"
        },
        "id": "xaXWvf83wjYj",
        "outputId": "9d166c97-862c-4392-cbf2-369ac169c0ae"
      },
      "source": [
        "lista_e.eliminar(201801701)\n",
        "lista_e.recorrer()#das"
      ],
      "execution_count": 93,
      "outputs": [
        {
          "output_type": "stream",
          "text": [
            "carné: 201901801 Nombre: Kevin Castañeda Email keevoocasta@gmail.com -->\n",
            "carné: 200001801 Nombre: Andreita Castañeda Email keevoocasta@gmail.com -->\n"
          ],
          "name": "stdout"
        }
      ]
    },
    {
      "cell_type": "markdown",
      "metadata": {
        "id": "oMRbM3I0Ddr9"
      },
      "source": [
        "**Buscar un nodo**"
      ]
    },
    {
      "cell_type": "code",
      "metadata": {
        "colab": {
          "base_uri": "https://localhost:8080/"
        },
        "id": "Hjg5CnC3Dib9",
        "outputId": "01ff475a-790f-477f-f95e-23e87914a9b4"
      },
      "source": [
        "lista_e.Buscar(200001801 )"
      ],
      "execution_count": 94,
      "outputs": [
        {
          "output_type": "stream",
          "text": [
            "carné: 200001801 Nombre: Andreita Castañeda Email keevoocasta@gmail.com -->\n"
          ],
          "name": "stdout"
        }
      ]
    }
  ]
}
