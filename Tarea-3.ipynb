{
  "nbformat": 4,
  "nbformat_minor": 0,
  "metadata": {
    "colab": {
      "name": "3.ListaDobleEnlazada.ipynb",
      "provenance": [],
      "authorship_tag": "ABX9TyPiS/kpW6o5i5M3wh0gpLTk",
      "include_colab_link": true
    },
    "kernelspec": {
      "name": "python3",
      "display_name": "Python 3"
    },
    "language_info": {
      "name": "python"
    }
  },
  "cells": [
    {
      "cell_type": "markdown",
      "metadata": {
        "id": "view-in-github",
        "colab_type": "text"
      },
      "source": [
        "<a href=\"https://colab.research.google.com/github/kevincasta98/Tareas-IPC2/blob/main/3_ListaDobleEnlazada.ipynb\" target=\"_parent\"><img src=\"https://colab.research.google.com/assets/colab-badge.svg\" alt=\"Open In Colab\"/></a>"
      ]
    },
    {
      "cell_type": "markdown",
      "metadata": {
        "id": "y34k19nsvrgF"
      },
      "source": [
        "**Lista doblemente enlazada**"
      ]
    },
    {
      "cell_type": "code",
      "metadata": {
        "id": "jBRlQf_avSku"
      },
      "source": [
        "class estudiante:\n",
        "  def __init__(self, carne, nombre, edad, direccion, telefono, email, carrera, puesto):\n",
        "    self.carne = carne\n",
        "    self.nombre = nombre\n",
        "    self.edad = edad\n",
        "    self.direccion = direccion\n",
        "    self.telefono = telefono\n",
        "    self.email = email\n",
        "    self.carrera = carrera\n",
        "    self.puesto = puesto"
      ],
      "execution_count": 63,
      "outputs": []
    },
    {
      "cell_type": "markdown",
      "metadata": {
        "id": "dH5edaU_zuZl"
      },
      "source": [
        "**Clase nodo**"
      ]
    },
    {
      "cell_type": "code",
      "metadata": {
        "id": "o-xR1gzMzwws"
      },
      "source": [
        "class nodo:\n",
        "  def __init__(self, estudiante=None, siguiente=None, anterior=None):\n",
        "    self.estudiante = estudiante\n",
        "    self.siguiente = siguiente\n",
        "    self.anterior = anterior"
      ],
      "execution_count": 64,
      "outputs": []
    },
    {
      "cell_type": "markdown",
      "metadata": {
        "id": "BNwwpnae0FZL"
      },
      "source": [
        "**Definicion de la clase lista doblemente enlazada**"
      ]
    },
    {
      "cell_type": "code",
      "metadata": {
        "id": "pzpvANPm0OmU"
      },
      "source": [
        "class lista_doble:\n",
        "  def __init__(self):\n",
        "    self.primero = None\n",
        "\n",
        "  def insertar(self, estudiante):\n",
        "    if self.primero is None:\n",
        "      self.primero = nodo(estudiante=estudiante)\n",
        "    else:\n",
        "      actual = nodo(estudiante=estudiante, siguiente=self.primero)\n",
        "      self.primero.anterior = actual\n",
        "      self.primero = actual\n",
        "  \n",
        "  def recorrer(self):\n",
        "    if self.primero is None:\n",
        "      return\n",
        "    actual = self.primero\n",
        "    print(\"carne:\", actual.estudiante.carne, \"nombre:\", actual.estudiante.nombre, \"email:\", actual.estudiante.email, \"->\")\n",
        "    while actual.siguiente:\n",
        "      actual = actual.siguiente\n",
        "      print(\"carne:\", actual.estudiante.carne, \"nombre:\", actual.estudiante.nombre, \"email:\", actual.estudiante.email, \"->\")\n",
        "  \n",
        "  def eliminar(self, carne):\n",
        "    actual = self.primero\n",
        "    while actual:\n",
        "      if actual.estudiante.carne == carne:\n",
        "        if actual.anterior:\n",
        "          if actual.siguiente:\n",
        "            actual.anterior.siguiente = actual.siguiente\n",
        "            actual.siguiente.anterior = actual.anterior\n",
        "          else:\n",
        "            actual.anterior.siguiente = None\n",
        "            actual.anterior = None\n",
        "        else:\n",
        "          if actual.siguiente:\n",
        "            self.primero = actual.siguiente\n",
        "            actual.siguiente.anterior = None\n",
        "          else:\n",
        "            self.primero = None\n",
        "        return True\n",
        "      else:\n",
        "        actual = actual.siguiente\n",
        "    return False\n",
        "  \n",
        "  def buscar(self, carnet):\n",
        "    actual = self.primero\n",
        "    while actual and actual.estudiante.carne != carnet:\n",
        "      actual = actual.siguiente\n",
        "    if actual is None:\n",
        "      print('Ese estudiante no existe en la lista')\n",
        "    elif actual:\n",
        "      print(\"carnet:\", actual.estudiante.carne, \"nombre:\", actual.estudiante.nombre, \"email:\", actual.estudiante.email)"
      ],
      "execution_count": 65,
      "outputs": []
    },
    {
      "cell_type": "markdown",
      "metadata": {
        "id": "YqHqjpUg2R5U"
      },
      "source": [
        "**Creacion de objetos estudiantes**"
      ]
    },
    {
      "cell_type": "code",
      "metadata": {
        "id": "zn77ljsz2Uua"
      },
      "source": [
        "e1 = estudiante(201901801,\"Kevin Castañeda\",23,\"Guatemala\",51133704,\"keevoocasta@gmail.com\",\"Sistemas\",\"Programador Jr\")\n",
        "e2 = estudiante(201801701,\"Javier Castañeda\",18,\"Guatemala\",51133704,\"javiercasta@gmail.com\",\"Arquitectura\",\"Programador Jr\")\n",
        "e3 = estudiante(200001801,\"Andreita Castañeda\",17,\"Guatemala\",51133704,\"keevoocasta@gmail.com\",\"Sistemas\",\"Programador Jr\")"
      ],
      "execution_count": 66,
      "outputs": []
    },
    {
      "cell_type": "markdown",
      "metadata": {
        "id": "bMbkBgxf2WFE"
      },
      "source": [
        "**Insersion**"
      ]
    },
    {
      "cell_type": "code",
      "metadata": {
        "id": "6vV-SO4y2Zw1"
      },
      "source": [
        "lista_d=lista_doble()\n",
        "lista_d.insertar(e1)\n",
        "lista_d.insertar(e2)\n",
        "lista_d.insertar(e3)"
      ],
      "execution_count": 67,
      "outputs": []
    },
    {
      "cell_type": "markdown",
      "metadata": {
        "id": "Drr0jM1_jmNB"
      },
      "source": [
        "**Recorrer lista**"
      ]
    },
    {
      "cell_type": "code",
      "metadata": {
        "colab": {
          "base_uri": "https://localhost:8080/"
        },
        "id": "tIXHlRQXjsDp",
        "outputId": "0881dd70-c278-4d7d-f7b4-c7e084cc53d2"
      },
      "source": [
        "lista_d.recorrer()"
      ],
      "execution_count": 68,
      "outputs": [
        {
          "output_type": "stream",
          "text": [
            "carne: 200001801 nombre: Andreita Castañeda email: keevoocasta@gmail.com ->\n",
            "carne: 201801701 nombre: Javier Castañeda email: javiercasta@gmail.com ->\n",
            "carne: 201901801 nombre: Kevin Castañeda email: keevoocasta@gmail.com ->\n"
          ],
          "name": "stdout"
        }
      ]
    },
    {
      "cell_type": "markdown",
      "metadata": {
        "id": "AszPnbYNjvb2"
      },
      "source": [
        "**Eliminar estudiante**"
      ]
    },
    {
      "cell_type": "code",
      "metadata": {
        "colab": {
          "base_uri": "https://localhost:8080/"
        },
        "id": "cQZtZbYUj1ze",
        "outputId": "c4620b59-07ac-43d4-ccf2-30a8e009b075"
      },
      "source": [
        "lista_d.eliminar(200001801)\n",
        "lista_d.recorrer()"
      ],
      "execution_count": 69,
      "outputs": [
        {
          "output_type": "stream",
          "text": [
            "carne: 201801701 nombre: Javier Castañeda email: javiercasta@gmail.com ->\n",
            "carne: 201901801 nombre: Kevin Castañeda email: keevoocasta@gmail.com ->\n"
          ],
          "name": "stdout"
        }
      ]
    },
    {
      "cell_type": "markdown",
      "metadata": {
        "id": "VNrJW2fKkaiA"
      },
      "source": [
        "**Busqueda de estudiante en la lista**"
      ]
    },
    {
      "cell_type": "code",
      "metadata": {
        "colab": {
          "base_uri": "https://localhost:8080/"
        },
        "id": "aD_sqGUdkrIH",
        "outputId": "7a34b031-2cb3-4aa4-d37f-dbf0fff36576"
      },
      "source": [
        "lista_d.buscar(201801701)"
      ],
      "execution_count": 70,
      "outputs": [
        {
          "output_type": "stream",
          "text": [
            "carnet: 201801701 nombre: Javier Castañeda email: javiercasta@gmail.com\n"
          ],
          "name": "stdout"
        }
      ]
    },
    {
      "cell_type": "markdown",
      "metadata": {
        "id": "o2KL59iKk7_m"
      },
      "source": [
        "**Busqueda de un estudiante que no este en la lista**"
      ]
    },
    {
      "cell_type": "code",
      "metadata": {
        "colab": {
          "base_uri": "https://localhost:8080/"
        },
        "id": "uzaNvO3NlBcJ",
        "outputId": "1fd490e9-1a6b-44d0-cbf7-436da036ddf4"
      },
      "source": [
        "lista_d.buscar(20180170)"
      ],
      "execution_count": 71,
      "outputs": [
        {
          "output_type": "stream",
          "text": [
            "Ese estudiante no existe en la lista\n"
          ],
          "name": "stdout"
        }
      ]
    }
  ]
}
