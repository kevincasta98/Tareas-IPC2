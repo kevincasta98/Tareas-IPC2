{
  "nbformat": 4,
  "nbformat_minor": 0,
  "metadata": {
    "colab": {
      "name": "2.ListaCircular.ipynb",
      "provenance": [],
      "authorship_tag": "ABX9TyO0x5wtqC1iUoB2yk8I62f9",
      "include_colab_link": true
    },
    "kernelspec": {
      "name": "python3",
      "display_name": "Python 3"
    },
    "language_info": {
      "name": "python"
    }
  },
  "cells": [
    {
      "cell_type": "markdown",
      "metadata": {
        "id": "view-in-github",
        "colab_type": "text"
      },
      "source": [
        "<a href=\"https://colab.research.google.com/github/kevincasta98/Tareas-IPC2/blob/main/2_ListaCircular.ipynb\" target=\"_parent\"><img src=\"https://colab.research.google.com/assets/colab-badge.svg\" alt=\"Open In Colab\"/></a>"
      ]
    },
    {
      "cell_type": "markdown",
      "metadata": {
        "id": "_3lSzMCC4Rj0"
      },
      "source": [
        "# **Lista Circular**"
      ]
    },
    {
      "cell_type": "code",
      "metadata": {
        "id": "016qaNzVzUgZ"
      },
      "source": [
        "class estudiante:\n",
        "  def __init__(self, carne,nombre, edad, direccion, telefono, email, carrera, puesto):\n",
        "    self.carne= carne\n",
        "    self.nombre = nombre\n",
        "    self.edad = edad\n",
        "    self.direccion = direccion\n",
        "    self.telefono = telefono\n",
        "    self.email= email\n",
        "    self.carrera = carrera\n",
        "    self.puesto = puesto"
      ],
      "execution_count": 66,
      "outputs": []
    },
    {
      "cell_type": "markdown",
      "metadata": {
        "id": "JFJFsCbv1e0y"
      },
      "source": [
        "**Definicion de clase nodo**"
      ]
    },
    {
      "cell_type": "code",
      "metadata": {
        "id": "2Dg5f0Mk1l44"
      },
      "source": [
        "class nodo:\n",
        "  def __init__(self, estudiante=None, siguiente= None):\n",
        "    self.estudiante= estudiante\n",
        "    self.siguiente= siguiente"
      ],
      "execution_count": 67,
      "outputs": []
    },
    {
      "cell_type": "markdown",
      "metadata": {
        "id": "2NKDTKE61rN-"
      },
      "source": [
        "**Definicion de la clase Lista circular**"
      ]
    },
    {
      "cell_type": "code",
      "metadata": {
        "id": "jNAhmtOq1ye2"
      },
      "source": [
        "class lista_circular:\n",
        "  def __init__(self):\n",
        "    self.primero =None\n",
        "\n",
        "  def insertar(self, estudiante):\n",
        "    if self.primero is None:\n",
        "      self.primero= nodo(estudiante=estudiante)\n",
        "      self.primero.siguiente = self.primero\n",
        "    else:\n",
        "      actual=nodo(estudiante=estudiante, siguiente=self.primero.siguiente)\n",
        "      self.primero.siguiente= actual\n",
        "\n",
        "  def recorrer(self):\n",
        "    if self.primero is None:\n",
        "      return\n",
        "    actual = self.primero\n",
        "    print(\"Carne: \", actual.estudiante.carne, \"Nombre: \", actual.estudiante.nombre, \"Email\", actual.estudiante.email, \"---\")\n",
        "    while actual.siguiente != self.primero:\n",
        "      actual = actual.siguiente\n",
        "      print(\"Carne: \", actual.estudiante.carne, \"Nombre: \", actual.estudiante.nombre, \"Email\", actual.estudiante.email, \"---\")\n",
        "\n",
        "  def eliminar(self, carnet):\n",
        "    actual = self.primero\n",
        "    anterior = None\n",
        "\n",
        "    while actual and actual.estudiante.carne != carnet:#actual es vacio?\"actual is not None\" y carnet es diferente al parametro enviado\n",
        "      anterior = actual\n",
        "      actual = actual.siguiente\n",
        "      if actual == self.primero:\n",
        "        no_encontrado = True\n",
        "        break\n",
        "    \n",
        "    if not no_encontrado:\n",
        "      if anterior is not None:\n",
        "        anterior.siguiente = actual.siguiente\n",
        "      else:\n",
        "        while actual.siguiente != self.primero:\n",
        "          actual = actual.siguiente\n",
        "        actual.siguiente = self.primero.siguiente\n",
        "        self.primero = self.primero.siguiente  \n",
        "\n",
        "\n",
        "  def Buscar(self, carnet):\n",
        "    actual = self.primero\n",
        "    if actual.estudiante.carne == carnet:\n",
        "      print(\"Carner: \", actual.estudiante.carne, \"Nombre: \", actual.estudiante.nombre, \"Email\", actual.estudiante.email, \"---\")\n",
        "      \n",
        "    while actual.siguiente != self.primero:\n",
        "      actual = actual.siguiente\n",
        "      if actual.estudiante.carne == carnet:\n",
        "        print(\"Carne: \", actual.estudiante.carne, \"Nombre: \", actual.estudiante.nombre, \"Email\", actual.estudiante.email, \"---\")\n",
        "    \n",
        "    if actual.estudiante.carne != carnet:\n",
        "      print(\"No se encontro el estudiante\")\n",
        "    \n",
        "    \n",
        "\n"
      ],
      "execution_count": 68,
      "outputs": []
    },
    {
      "cell_type": "markdown",
      "metadata": {
        "id": "sWzJZKkw9vXE"
      },
      "source": [
        "**Definir objetos estudiantes**"
      ]
    },
    {
      "cell_type": "code",
      "metadata": {
        "id": "aT28JWVb96pg"
      },
      "source": [
        "e1 = estudiante(201901801,\"Kevin Castañeda\",23,\"Guatemala\",51133704,\"keevoocasta@gmail.com\",\"Sistemas\",\"Programador Jr\")\n",
        "e2 = estudiante(201801701,\"Javier Castañeda\",18,\"Guatemala\",51133704,\"javiercasta@gmail.com\",\"Arquitectura\",\"Programador Jr\")\n",
        "e3 = estudiante(200001801,\"Andreita Castañeda\",17,\"Guatemala\",51133704,\"keevoocasta@gmail.com\",\"Sistemas\",\"Programador Jr\")"
      ],
      "execution_count": 69,
      "outputs": []
    },
    {
      "cell_type": "markdown",
      "metadata": {
        "id": "F8qn2Yd699Yh"
      },
      "source": [
        "**Insercion**"
      ]
    },
    {
      "cell_type": "code",
      "metadata": {
        "id": "nnpRKXVY-Ceg"
      },
      "source": [
        "lista_c=lista_circular()\n",
        "lista_c.insertar(e1)\n",
        "lista_c.insertar(e2)\n",
        "lista_c.insertar(e3)"
      ],
      "execution_count": 70,
      "outputs": []
    },
    {
      "cell_type": "markdown",
      "metadata": {
        "id": "VNWg03Un-PKS"
      },
      "source": [
        "**Recorrer lista**"
      ]
    },
    {
      "cell_type": "code",
      "metadata": {
        "colab": {
          "base_uri": "https://localhost:8080/"
        },
        "id": "NAd_E7lF-R_4",
        "outputId": "7686a60f-f5d4-4356-b97d-c573a9d68941"
      },
      "source": [
        "lista_c.recorrer()"
      ],
      "execution_count": 71,
      "outputs": [
        {
          "output_type": "stream",
          "text": [
            "Carne:  201901801 Nombre:  Kevin Castañeda Email keevoocasta@gmail.com ---\n",
            "Carne:  200001801 Nombre:  Andreita Castañeda Email keevoocasta@gmail.com ---\n",
            "Carne:  201801701 Nombre:  Javier Castañeda Email javiercasta@gmail.com ---\n"
          ],
          "name": "stdout"
        }
      ]
    },
    {
      "cell_type": "markdown",
      "metadata": {
        "id": "uN-CfdQv4nlW"
      },
      "source": [
        "**Buscar**"
      ]
    },
    {
      "cell_type": "code",
      "metadata": {
        "colab": {
          "base_uri": "https://localhost:8080/"
        },
        "id": "wNy_nk_v4r5a",
        "outputId": "47de642e-5f38-4106-a71a-c0e8129c50e7"
      },
      "source": [
        "lista_c.Buscar(201801701)"
      ],
      "execution_count": 72,
      "outputs": [
        {
          "output_type": "stream",
          "text": [
            "Carne:  201801701 Nombre:  Javier Castañeda Email javiercasta@gmail.com ---\n"
          ],
          "name": "stdout"
        }
      ]
    },
    {
      "cell_type": "markdown",
      "metadata": {
        "id": "sz4wYmWTrqC1"
      },
      "source": [
        " **Eliminar nodo de lista**"
      ]
    },
    {
      "cell_type": "code",
      "metadata": {
        "colab": {
          "base_uri": "https://localhost:8080/"
        },
        "id": "7Xvl7Mk3rz_l",
        "outputId": "6a9b956b-84cd-488c-d27e-e70bb3d252dc"
      },
      "source": [
        "lista_c.eliminar(555)\n",
        "lista_c.recorrer()"
      ],
      "execution_count": 73,
      "outputs": [
        {
          "output_type": "stream",
          "text": [
            "Carne:  201901801 Nombre:  Kevin Castañeda Email keevoocasta@gmail.com ---\n",
            "Carne:  200001801 Nombre:  Andreita Castañeda Email keevoocasta@gmail.com ---\n",
            "Carne:  201801701 Nombre:  Javier Castañeda Email javiercasta@gmail.com ---\n"
          ],
          "name": "stdout"
        }
      ]
    }
  ]
}